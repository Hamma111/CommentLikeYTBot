{
 "cells": [
  {
   "cell_type": "code",
   "execution_count": 106,
   "metadata": {},
   "outputs": [],
   "source": [
    "import pandas as pd"
   ]
  },
  {
   "cell_type": "code",
   "execution_count": 107,
   "metadata": {},
   "outputs": [
    {
     "name": "stderr",
     "output_type": "stream",
     "text": [
      "<ipython-input-107-bd570036e502>:16: DeprecationWarning: use options instead of chrome_options\n",
      "  dr = webdriver.Chrome(chrome_options=options)\n"
     ]
    }
   ],
   "source": [
    "from selenium import webdriver\n",
    "from selenium.webdriver.common.keys import Keys\n",
    "from selenium.webdriver.chrome.options import Options\n",
    "from xerox import copy\n",
    "from time import sleep\n",
    "\n",
    "options = Options()\n",
    "options.add_argument(\"--disable-blink-features\")\n",
    "options.add_argument(\"--disable-blink-features=AutomationControlled\")\n",
    "options.add_argument(\"start-maximized\")\n",
    "options.add_experimental_option(\"excludeSwitches\", [\"enable-automation\"])\n",
    "options.add_experimental_option('useAutomationExtension', False)\n",
    "# options.add_argument(\"user-agent=\" + user_agent)\n",
    "options.add_argument(\"user-data-dir=c:\\\\Users\\\\hamma\\\\AppData\\\\Local\\\\Google\\\\Chrome\\\\User Data\\\\\")\n",
    "\n",
    "dr = webdriver.Chrome(chrome_options=options)\n"
   ]
  },
  {
   "cell_type": "code",
   "execution_count": 108,
   "metadata": {},
   "outputs": [],
   "source": [
    "STEP_SIZE = 10\n",
    "\n",
    "df = pd.read_csv('OoniZoni Kitchen.csv')\n",
    "\n",
    "video_links = df.Link"
   ]
  },
  {
   "cell_type": "code",
   "execution_count": 109,
   "metadata": {},
   "outputs": [],
   "source": [
    "dr.get('https://youtube.com/watch?v=K2uD4s1JiDI')\n",
    "sleep(1)"
   ]
  },
  {
   "cell_type": "code",
   "execution_count": 110,
   "metadata": {},
   "outputs": [],
   "source": [
    "def LikeAndComment():\n",
    "    sleep(0.5)\n",
    "    try:\n",
    "        dr.find_element_by_xpath('//*[@id=\"top-level-buttons\"]/ytd-toggle-button-renderer[1]').click()\n",
    "    except:\n",
    "        pass\n",
    "    dr.find_element_by_tag_name('body').send_keys(Keys.PAGE_DOWN)\n",
    "    sleep(3)\n",
    "    try:\n",
    "        dr.find_element_by_xpath('//*[@id=\"placeholder-area\"]').click()\n",
    "        sleep(1)\n",
    "        dr.find_element_by_xpath('//*[@id=\"contenteditable-root\"]').send_keys('Wow mashallah very nice')\n",
    "        dr.find_element_by_xpath('//*[@id=\"contenteditable-root\"]').send_keys(Keys.CONTROL, Keys.ENTER)\n",
    "        print('success')\n",
    "    except:\n",
    "        pass\n",
    "    \n",
    "# LikeAndComment()"
   ]
  },
  {
   "cell_type": "code",
   "execution_count": 111,
   "metadata": {},
   "outputs": [],
   "source": [
    "for i in range(STEP_SIZE-1):\n",
    "    dr.execute_script(\"window.open('')\")"
   ]
  },
  {
   "cell_type": "code",
   "execution_count": null,
   "metadata": {},
   "outputs": [],
   "source": []
  },
  {
   "cell_type": "code",
   "execution_count": 112,
   "metadata": {},
   "outputs": [
    {
     "data": {
      "text/plain": [
       "10"
      ]
     },
     "execution_count": 112,
     "metadata": {},
     "output_type": "execute_result"
    }
   ],
   "source": [
    "len(dr.window_handles)"
   ]
  },
  {
   "cell_type": "code",
   "execution_count": 117,
   "metadata": {},
   "outputs": [
    {
     "name": "stdout",
     "output_type": "stream",
     "text": [
      "success\n",
      "success\n",
      "success\n",
      "success\n",
      "success\n",
      "success\n",
      "success\n"
     ]
    }
   ],
   "source": [
    "# for step in range(len(video_links)-STEP_SIZE, 0 , -STEP_SIZE):\n",
    "#     print(step, step+10)\n",
    "#     for handle, l in enumerate(video_links[step:step+10]):\n",
    "#         dr.switch_to.window(dr.window_handles[handle])\n",
    "#         dr.get(l)\n",
    "    \n",
    "#     for handle, l in enumerate(video_links[step:step+10]):\n",
    "#         dr.switch_to.window(dr.window_handles[handle])\n",
    "#         LikeAndComment()\n",
    "        \n",
    "        \n",
    "# print(step, 0)\n",
    "# for handle, l in enumerate(video_links[0:step]):\n",
    "#     dr.switch_to.window(dr.window_handles[handle])\n",
    "#     dr.get(l)\n",
    "for handle, l in enumerate(video_links[0:step]):\n",
    "    dr.switch_to.window(dr.window_handles[handle])\n",
    "    LikeAndComment()\n",
    "    \n",
    "# print('next')"
   ]
  }
 ],
 "metadata": {
  "kernelspec": {
   "display_name": "Python 3.8.1 64-bit",
   "language": "python",
   "name": "python38164bitd9f5db4c6a59403998988a5c56626fe9"
  },
  "language_info": {
   "codemirror_mode": {
    "name": "ipython",
    "version": 3
   },
   "file_extension": ".py",
   "mimetype": "text/x-python",
   "name": "python",
   "nbconvert_exporter": "python",
   "pygments_lexer": "ipython3",
   "version": "3.8.1"
  }
 },
 "nbformat": 4,
 "nbformat_minor": 4
}
